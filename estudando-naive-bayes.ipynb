{
 "cells": [
  {
   "cell_type": "code",
   "execution_count": 1,
   "id": "400d4fda",
   "metadata": {
    "_cell_guid": "b1076dfc-b9ad-4769-8c92-a6c4dae69d19",
    "_uuid": "8f2839f25d086af736a60e9eeb907d3b93b6e0e5",
    "execution": {
     "iopub.execute_input": "2023-05-03T16:46:11.800984Z",
     "iopub.status.busy": "2023-05-03T16:46:11.799930Z",
     "iopub.status.idle": "2023-05-03T16:46:11.821879Z",
     "shell.execute_reply": "2023-05-03T16:46:11.820560Z"
    },
    "papermill": {
     "duration": 0.030443,
     "end_time": "2023-05-03T16:46:11.824495",
     "exception": false,
     "start_time": "2023-05-03T16:46:11.794052",
     "status": "completed"
    },
    "tags": []
   },
   "outputs": [
    {
     "name": "stdout",
     "output_type": "stream",
     "text": [
      "/kaggle/input/breast-cancer-wisconsin-data/data.csv\n"
     ]
    }
   ],
   "source": [
    "# This Python 3 environment comes with many helpful analytics libraries installed\n",
    "# It is defined by the kaggle/python Docker image: https://github.com/kaggle/docker-python\n",
    "# For example, here's several helpful packages to load\n",
    "\n",
    "import numpy as np # linear algebra\n",
    "import pandas as pd # data processing, CSV file I/O (e.g. pd.read_csv)\n",
    "\n",
    "# Input data files are available in the read-only \"../input/\" directory\n",
    "# For example, running this (by clicking run or pressing Shift+Enter) will list all files under the input directory\n",
    "\n",
    "import os\n",
    "for dirname, _, filenames in os.walk('/kaggle/input'):\n",
    "    for filename in filenames:\n",
    "        print(os.path.join(dirname, filename))\n",
    "\n",
    "# You can write up to 20GB to the current directory (/kaggle/working/) that gets preserved as output when you create a version using \"Save & Run All\" \n",
    "# You can also write temporary files to /kaggle/temp/, but they won't be saved outside of the current session"
   ]
  },
  {
   "cell_type": "code",
   "execution_count": 2,
   "id": "282e406a",
   "metadata": {
    "execution": {
     "iopub.execute_input": "2023-05-03T16:46:11.833164Z",
     "iopub.status.busy": "2023-05-03T16:46:11.832450Z",
     "iopub.status.idle": "2023-05-03T16:46:14.249683Z",
     "shell.execute_reply": "2023-05-03T16:46:14.248532Z"
    },
    "papermill": {
     "duration": 2.424115,
     "end_time": "2023-05-03T16:46:14.252029",
     "exception": false,
     "start_time": "2023-05-03T16:46:11.827914",
     "status": "completed"
    },
    "tags": []
   },
   "outputs": [
    {
     "name": "stderr",
     "output_type": "stream",
     "text": [
      "/opt/conda/lib/python3.10/site-packages/scipy/__init__.py:146: UserWarning: A NumPy version >=1.16.5 and <1.23.0 is required for this version of SciPy (detected version 1.23.5\n",
      "  warnings.warn(f\"A NumPy version >={np_minversion} and <{np_maxversion}\"\n"
     ]
    },
    {
     "data": {
      "text/html": [
       "<div>\n",
       "<style scoped>\n",
       "    .dataframe tbody tr th:only-of-type {\n",
       "        vertical-align: middle;\n",
       "    }\n",
       "\n",
       "    .dataframe tbody tr th {\n",
       "        vertical-align: top;\n",
       "    }\n",
       "\n",
       "    .dataframe thead th {\n",
       "        text-align: right;\n",
       "    }\n",
       "</style>\n",
       "<table border=\"1\" class=\"dataframe\">\n",
       "  <thead>\n",
       "    <tr style=\"text-align: right;\">\n",
       "      <th></th>\n",
       "      <th>id</th>\n",
       "      <th>diagnosis</th>\n",
       "      <th>radius_mean</th>\n",
       "      <th>texture_mean</th>\n",
       "      <th>perimeter_mean</th>\n",
       "      <th>area_mean</th>\n",
       "      <th>smoothness_mean</th>\n",
       "      <th>compactness_mean</th>\n",
       "      <th>concavity_mean</th>\n",
       "      <th>concave points_mean</th>\n",
       "      <th>...</th>\n",
       "      <th>texture_worst</th>\n",
       "      <th>perimeter_worst</th>\n",
       "      <th>area_worst</th>\n",
       "      <th>smoothness_worst</th>\n",
       "      <th>compactness_worst</th>\n",
       "      <th>concavity_worst</th>\n",
       "      <th>concave points_worst</th>\n",
       "      <th>symmetry_worst</th>\n",
       "      <th>fractal_dimension_worst</th>\n",
       "      <th>Unnamed: 32</th>\n",
       "    </tr>\n",
       "  </thead>\n",
       "  <tbody>\n",
       "    <tr>\n",
       "      <th>0</th>\n",
       "      <td>842302</td>\n",
       "      <td>M</td>\n",
       "      <td>17.99</td>\n",
       "      <td>10.38</td>\n",
       "      <td>122.8</td>\n",
       "      <td>1001.0</td>\n",
       "      <td>0.11840</td>\n",
       "      <td>0.27760</td>\n",
       "      <td>0.3001</td>\n",
       "      <td>0.14710</td>\n",
       "      <td>...</td>\n",
       "      <td>17.33</td>\n",
       "      <td>184.6</td>\n",
       "      <td>2019.0</td>\n",
       "      <td>0.1622</td>\n",
       "      <td>0.6656</td>\n",
       "      <td>0.7119</td>\n",
       "      <td>0.2654</td>\n",
       "      <td>0.4601</td>\n",
       "      <td>0.11890</td>\n",
       "      <td>NaN</td>\n",
       "    </tr>\n",
       "    <tr>\n",
       "      <th>1</th>\n",
       "      <td>842517</td>\n",
       "      <td>M</td>\n",
       "      <td>20.57</td>\n",
       "      <td>17.77</td>\n",
       "      <td>132.9</td>\n",
       "      <td>1326.0</td>\n",
       "      <td>0.08474</td>\n",
       "      <td>0.07864</td>\n",
       "      <td>0.0869</td>\n",
       "      <td>0.07017</td>\n",
       "      <td>...</td>\n",
       "      <td>23.41</td>\n",
       "      <td>158.8</td>\n",
       "      <td>1956.0</td>\n",
       "      <td>0.1238</td>\n",
       "      <td>0.1866</td>\n",
       "      <td>0.2416</td>\n",
       "      <td>0.1860</td>\n",
       "      <td>0.2750</td>\n",
       "      <td>0.08902</td>\n",
       "      <td>NaN</td>\n",
       "    </tr>\n",
       "  </tbody>\n",
       "</table>\n",
       "<p>2 rows × 33 columns</p>\n",
       "</div>"
      ],
      "text/plain": [
       "       id diagnosis  radius_mean  texture_mean  perimeter_mean  area_mean  \\\n",
       "0  842302         M        17.99         10.38           122.8     1001.0   \n",
       "1  842517         M        20.57         17.77           132.9     1326.0   \n",
       "\n",
       "   smoothness_mean  compactness_mean  concavity_mean  concave points_mean  \\\n",
       "0          0.11840           0.27760          0.3001              0.14710   \n",
       "1          0.08474           0.07864          0.0869              0.07017   \n",
       "\n",
       "   ...  texture_worst  perimeter_worst  area_worst  smoothness_worst  \\\n",
       "0  ...          17.33            184.6      2019.0            0.1622   \n",
       "1  ...          23.41            158.8      1956.0            0.1238   \n",
       "\n",
       "   compactness_worst  concavity_worst  concave points_worst  symmetry_worst  \\\n",
       "0             0.6656           0.7119                0.2654          0.4601   \n",
       "1             0.1866           0.2416                0.1860          0.2750   \n",
       "\n",
       "   fractal_dimension_worst  Unnamed: 32  \n",
       "0                  0.11890          NaN  \n",
       "1                  0.08902          NaN  \n",
       "\n",
       "[2 rows x 33 columns]"
      ]
     },
     "execution_count": 2,
     "metadata": {},
     "output_type": "execute_result"
    }
   ],
   "source": [
    "import pandas as pd\n",
    "import numpy as np\n",
    "import seaborn as sns\n",
    "from sklearn.preprocessing import StandardScaler\n",
    "from imblearn.over_sampling import RandomOverSampler\n",
    "from sklearn.model_selection import train_test_split\n",
    "from sklearn.metrics import classification_report\n",
    "from sklearn.naive_bayes import GaussianNB\n",
    "df = pd.DataFrame(pd.read_csv('/kaggle/input/breast-cancer-wisconsin-data/data.csv'))\n",
    "df.head(2)"
   ]
  },
  {
   "cell_type": "markdown",
   "id": "ca56259f",
   "metadata": {
    "papermill": {
     "duration": 0.00317,
     "end_time": "2023-05-03T16:46:14.258689",
     "exception": false,
     "start_time": "2023-05-03T16:46:14.255519",
     "status": "completed"
    },
    "tags": []
   },
   "source": [
    "# Data Exploration"
   ]
  },
  {
   "cell_type": "code",
   "execution_count": 3,
   "id": "70f7d36d",
   "metadata": {
    "execution": {
     "iopub.execute_input": "2023-05-03T16:46:14.267894Z",
     "iopub.status.busy": "2023-05-03T16:46:14.266792Z",
     "iopub.status.idle": "2023-05-03T16:46:14.271337Z",
     "shell.execute_reply": "2023-05-03T16:46:14.270521Z"
    },
    "papermill": {
     "duration": 0.011632,
     "end_time": "2023-05-03T16:46:14.273685",
     "exception": false,
     "start_time": "2023-05-03T16:46:14.262053",
     "status": "completed"
    },
    "tags": []
   },
   "outputs": [],
   "source": [
    "# sns.pairplot(df, hue='diagnosis')"
   ]
  },
  {
   "cell_type": "markdown",
   "id": "8bc02d57",
   "metadata": {
    "papermill": {
     "duration": 0.003187,
     "end_time": "2023-05-03T16:46:14.280389",
     "exception": false,
     "start_time": "2023-05-03T16:46:14.277202",
     "status": "completed"
    },
    "tags": []
   },
   "source": [
    "# Preparing Data"
   ]
  },
  {
   "cell_type": "code",
   "execution_count": 4,
   "id": "1ace4b3c",
   "metadata": {
    "execution": {
     "iopub.execute_input": "2023-05-03T16:46:14.289550Z",
     "iopub.status.busy": "2023-05-03T16:46:14.288456Z",
     "iopub.status.idle": "2023-05-03T16:46:14.313184Z",
     "shell.execute_reply": "2023-05-03T16:46:14.311789Z"
    },
    "papermill": {
     "duration": 0.032169,
     "end_time": "2023-05-03T16:46:14.315946",
     "exception": false,
     "start_time": "2023-05-03T16:46:14.283777",
     "status": "completed"
    },
    "tags": []
   },
   "outputs": [],
   "source": [
    "df.drop(columns=['id','Unnamed: 32'], inplace=True)\n",
    "df['diagnosis'] = (df['diagnosis'] == 'M').astype(int)\n",
    "x = df[df.columns[1:-1]].values\n",
    "y = df[df.columns[0]].values\n",
    "X_train, X_test, y_train, y_test = train_test_split(x, y, test_size=0.33, random_state=42)\n",
    "def scaler_format(x,y,oversample=False):\n",
    "    scaler = StandardScaler()\n",
    "    x = scaler.fit_transform(x)\n",
    "    if oversample:\n",
    "        ros = RandomOverSampler(random_state=42)\n",
    "        x, y = ros.fit_resample(x, y)\n",
    "    return x,y\n",
    "X_train, y_train = scaler_format(X_train,y_train, oversample=True)\n",
    "X_test, y_test = scaler_format(X_test,y_test, oversample=False)"
   ]
  },
  {
   "cell_type": "code",
   "execution_count": 5,
   "id": "9ad69a4e",
   "metadata": {
    "execution": {
     "iopub.execute_input": "2023-05-03T16:46:14.324642Z",
     "iopub.status.busy": "2023-05-03T16:46:14.324218Z",
     "iopub.status.idle": "2023-05-03T16:46:14.331594Z",
     "shell.execute_reply": "2023-05-03T16:46:14.330505Z"
    },
    "papermill": {
     "duration": 0.014483,
     "end_time": "2023-05-03T16:46:14.333929",
     "exception": false,
     "start_time": "2023-05-03T16:46:14.319446",
     "status": "completed"
    },
    "tags": []
   },
   "outputs": [
    {
     "data": {
      "text/plain": [
       "(array([236, 236]), array([121,  67]))"
      ]
     },
     "execution_count": 5,
     "metadata": {},
     "output_type": "execute_result"
    }
   ],
   "source": [
    "np.bincount(y_train),np.bincount(y_test)"
   ]
  },
  {
   "cell_type": "markdown",
   "id": "8f3a97b6",
   "metadata": {
    "papermill": {
     "duration": 0.003338,
     "end_time": "2023-05-03T16:46:14.340731",
     "exception": false,
     "start_time": "2023-05-03T16:46:14.337393",
     "status": "completed"
    },
    "tags": []
   },
   "source": [
    "# Modelo Naive Bayes\n",
    "- GaussianNB()"
   ]
  },
  {
   "cell_type": "code",
   "execution_count": 6,
   "id": "218cfe05",
   "metadata": {
    "execution": {
     "iopub.execute_input": "2023-05-03T16:46:14.349490Z",
     "iopub.status.busy": "2023-05-03T16:46:14.349076Z",
     "iopub.status.idle": "2023-05-03T16:46:14.366147Z",
     "shell.execute_reply": "2023-05-03T16:46:14.364581Z"
    },
    "papermill": {
     "duration": 0.024675,
     "end_time": "2023-05-03T16:46:14.368853",
     "exception": false,
     "start_time": "2023-05-03T16:46:14.344178",
     "status": "completed"
    },
    "tags": []
   },
   "outputs": [
    {
     "name": "stdout",
     "output_type": "stream",
     "text": [
      "Naive Bayes:\n",
      "              precision    recall  f1-score   support\n",
      "\n",
      "           0       0.96      0.96      0.96       121\n",
      "           1       0.93      0.93      0.93        67\n",
      "\n",
      "    accuracy                           0.95       188\n",
      "   macro avg       0.94      0.94      0.94       188\n",
      "weighted avg       0.95      0.95      0.95       188\n",
      "\n",
      "Number of mislabeled points out of a total 188 points : 10\n"
     ]
    }
   ],
   "source": [
    "gnb = GaussianNB()\n",
    "y_pred = gnb.fit(X_train, y_train).predict(X_test)\n",
    "print(f'Naive Bayes:\\n{classification_report(y_test, y_pred)}')\n",
    "print(\"Number of mislabeled points out of a total %d points : %d\"\n",
    "      % (X_test.shape[0], (y_test != y_pred).sum()))"
   ]
  }
 ],
 "metadata": {
  "kernelspec": {
   "display_name": "Python 3",
   "language": "python",
   "name": "python3"
  },
  "language_info": {
   "codemirror_mode": {
    "name": "ipython",
    "version": 3
   },
   "file_extension": ".py",
   "mimetype": "text/x-python",
   "name": "python",
   "nbconvert_exporter": "python",
   "pygments_lexer": "ipython3",
   "version": "3.10.10"
  },
  "papermill": {
   "default_parameters": {},
   "duration": 15.057337,
   "end_time": "2023-05-03T16:46:15.396274",
   "environment_variables": {},
   "exception": null,
   "input_path": "__notebook__.ipynb",
   "output_path": "__notebook__.ipynb",
   "parameters": {},
   "start_time": "2023-05-03T16:46:00.338937",
   "version": "2.4.0"
  }
 },
 "nbformat": 4,
 "nbformat_minor": 5
}
